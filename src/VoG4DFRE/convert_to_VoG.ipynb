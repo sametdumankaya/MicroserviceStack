{
 "cells": [
  {
   "cell_type": "code",
   "execution_count": 1,
   "metadata": {},
   "outputs": [],
   "source": [
    "import os\n",
    "import networkx as nx\n",
    "import pandas as pd\n",
    "from matplotlib import pyplot as plt"
   ]
  },
  {
   "cell_type": "code",
   "execution_count": 2,
   "metadata": {},
   "outputs": [
    {
     "data": {
      "text/plain": [
       "'Name: \\nType: MultiGraph\\nNumber of nodes: 11550\\nNumber of edges: 29556\\nAverage degree:   5.1179'"
      ]
     },
     "execution_count": 2,
     "metadata": {},
     "output_type": "execute_result"
    }
   ],
   "source": [
    "path=os.getcwd()\n",
    "oG=nx.read_graphml(path+'\\DATA\\AlertStrom_HNMTopology_WithAlerts.graphml')\n",
    "nx.info(oG)"
   ]
  },
  {
   "cell_type": "code",
   "execution_count": 3,
   "metadata": {},
   "outputs": [],
   "source": [
    "def extract_edge_idx(graph):\n",
    "    edges=list(G.edges)\n",
    "    nodes=list(G.nodes)\n",
    "    new_edge_list = [None]\n",
    "    j=0\n",
    "    for i in range(len(edges)):\n",
    "        if edges[i][2]==0:\n",
    "            new_edge_list.append(i)\n",
    "            idx1 = nodes.index(edges[i][0])\n",
    "            idx2 = nodes.index(edges[i][1])\n",
    "            new_edge_list[j] = (idx1+1,idx2+1,1)\n",
    "            j=j+1\n",
    "    return new_edge_list"
   ]
  },
  {
   "cell_type": "code",
   "execution_count": 6,
   "metadata": {},
   "outputs": [],
   "source": [
    "def cost_to_KG(graph_name):\n",
    "    cost=pd.read_csv(graph_name+'_VoG_output',header=None,delim_whitespace=True)\n",
    "    x=cost[1]\n",
    "    normalized_x=(x-x.min())/(x.max()-x.min())\n",
    "    cost.insert(2,2,normalized_x)\n",
    "    return cost"
   ]
  },
  {
   "cell_type": "code",
   "execution_count": 7,
   "metadata": {},
   "outputs": [],
   "source": [
    "#edges=extract_edge_idx(oG)\n",
    "edges=list(oG.edges)\n",
    "cost= cost_to_KG('alertstorm')"
   ]
  },
  {
   "cell_type": "code",
   "execution_count": null,
   "metadata": {},
   "outputs": [],
   "source": [
    "n=len(oG.nodes)\n",
    "cost_KG=[None]*n\n",
    "raw = open(path+'\\DATA\\\\'+graph_name+'_orderedALL.model', \"r\")\n",
    "structure_list = raw.read().split('\\n')\n",
    "rev=structure_list[::-1]\n",
    "for i in range(len(structure_list)):\n",
    "    structure_list[0]"
   ]
  },
  {
   "cell_type": "code",
   "execution_count": null,
   "metadata": {},
   "outputs": [],
   "source": [
    "graph_name = 'alertstorm'\n",
    "raw = open(path+'\\DATA\\\\'+graph_name+'_orderedALL.model', \"r\")\n",
    "structure_list = raw.read().split('\\n')\n",
    "structure = structure_list[0]\n",
    "structure = structure.split(',')\n",
    "node1 = structure[0]\n",
    "node1_str = node1[3:]\n",
    "node2_str = structure[1]\n",
    "a_list = node1_str.split()\n",
    "b_list = node2_str.split()\n",
    "a_map_object = map(int, a_list)\n",
    "b_map_object = map(int, b_list)\n",
    "     \n",
    "struct_type = node1[:2] # Type of structure of row i \n",
    "node1_int = list(a_map_object) # set1 of nb , hub of st\n",
    "node2_int = list(b_map_object) # set2 of nb , spokes of st"
   ]
  },
  {
   "cell_type": "code",
   "execution_count": 18,
   "metadata": {},
   "outputs": [
    {
     "ename": "IndexError",
     "evalue": "list index out of range",
     "output_type": "error",
     "traceback": [
      "\u001b[1;31m---------------------------------------------------------------------------\u001b[0m",
      "\u001b[1;31mIndexError\u001b[0m                                Traceback (most recent call last)",
      "\u001b[1;32m<ipython-input-18-84b0f019473b>\u001b[0m in \u001b[0;36m<module>\u001b[1;34m\u001b[0m\n\u001b[0;32m      6\u001b[0m \u001b[1;33m\u001b[0m\u001b[0m\n\u001b[0;32m      7\u001b[0m \u001b[1;32mfor\u001b[0m \u001b[0mi\u001b[0m \u001b[1;32min\u001b[0m \u001b[0mrange\u001b[0m\u001b[1;33m(\u001b[0m\u001b[0mlen\u001b[0m\u001b[1;33m(\u001b[0m\u001b[0mstructure_list\u001b[0m\u001b[1;33m)\u001b[0m\u001b[1;33m-\u001b[0m\u001b[1;36m1\u001b[0m\u001b[1;33m)\u001b[0m\u001b[1;33m:\u001b[0m\u001b[1;33m\u001b[0m\u001b[1;33m\u001b[0m\u001b[0m\n\u001b[1;32m----> 8\u001b[1;33m     \u001b[0mstructure\u001b[0m \u001b[1;33m=\u001b[0m \u001b[0mstructure_list\u001b[0m\u001b[1;33m[\u001b[0m\u001b[0mi\u001b[0m\u001b[1;33m]\u001b[0m\u001b[1;33m\u001b[0m\u001b[1;33m\u001b[0m\u001b[0m\n\u001b[0m\u001b[0;32m      9\u001b[0m     \u001b[0mstructure_list\u001b[0m \u001b[1;33m=\u001b[0m \u001b[0mraw\u001b[0m\u001b[1;33m.\u001b[0m\u001b[0mread\u001b[0m\u001b[1;33m(\u001b[0m\u001b[1;33m)\u001b[0m\u001b[1;33m.\u001b[0m\u001b[0msplit\u001b[0m\u001b[1;33m(\u001b[0m\u001b[1;34m'\\n'\u001b[0m\u001b[1;33m)\u001b[0m\u001b[1;33m\u001b[0m\u001b[1;33m\u001b[0m\u001b[0m\n\u001b[0;32m     10\u001b[0m     \u001b[0mstructure\u001b[0m \u001b[1;33m=\u001b[0m \u001b[0mstructure_list\u001b[0m\u001b[1;33m[\u001b[0m\u001b[1;36m0\u001b[0m\u001b[1;33m]\u001b[0m\u001b[1;33m\u001b[0m\u001b[1;33m\u001b[0m\u001b[0m\n",
      "\u001b[1;31mIndexError\u001b[0m: list index out of range"
     ]
    }
   ],
   "source": [
    "n=len(oG.nodes)\n",
    "cost_KG=[None]*n\n",
    "graph_name='alertstorm'\n",
    "raw = open(path+'\\DATA\\\\'+graph_name+'_orderedALL.model', \"r\")\n",
    "structure_list = raw.read().split('\\n')\n",
    "\n",
    "for i in range(len(structure_list)-1):\n",
    "    structure = structure_list[i]\n",
    "    structure_list = raw.read().split('\\n')\n",
    "    structure = structure_list[0]\n",
    "    structure = structure.split(',')\n",
    "    node1 = structure[0]\n",
    "    node1_str = node1[3:]\n",
    "#     node2_str = structure[1]\n",
    "#     a_list = node1_str.split()\n",
    "#     b_list = node2_str.split()\n",
    "#     a_map_object = map(int, a_list)\n",
    "#     b_map_object = map(int, b_list)\n",
    "     \n",
    "#     struct_type = node1[:2] # Type of structure of row i \n",
    "#     node1_int = list(a_map_object) # set1 of nb , hub of st\n",
    "#     node2_int = list(b_map_object) # set2 of nb , spokes of st\n",
    "    "
   ]
  },
  {
   "cell_type": "code",
   "execution_count": 14,
   "metadata": {},
   "outputs": [
    {
     "data": {
      "text/plain": [
       "''"
      ]
     },
     "execution_count": 14,
     "metadata": {},
     "output_type": "execute_result"
    }
   ],
   "source": [
    "node1_str"
   ]
  },
  {
   "cell_type": "code",
   "execution_count": null,
   "metadata": {},
   "outputs": [],
   "source": [
    "n=len(G.nodes)\n",
    "cost_KG=[None]*n"
   ]
  },
  {
   "cell_type": "code",
   "execution_count": null,
   "metadata": {},
   "outputs": [],
   "source": []
  }
 ],
 "metadata": {
  "kernelspec": {
   "display_name": "Python 3",
   "language": "python",
   "name": "python3"
  },
  "language_info": {
   "codemirror_mode": {
    "name": "ipython",
    "version": 3
   },
   "file_extension": ".py",
   "mimetype": "text/x-python",
   "name": "python",
   "nbconvert_exporter": "python",
   "pygments_lexer": "ipython3",
   "version": "3.7.4"
  }
 },
 "nbformat": 4,
 "nbformat_minor": 4
}
