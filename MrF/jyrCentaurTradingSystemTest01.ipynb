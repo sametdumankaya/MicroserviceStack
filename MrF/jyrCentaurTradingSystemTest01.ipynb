{
 "cells": [
  {
   "cell_type": "code",
   "execution_count": 1,
   "metadata": {
    "scrolled": true
   },
   "outputs": [],
   "source": [
    "import time\n",
    "from jyrCentaurTradingSystem import CentaurTradingSystem, TradingGuidance, IntentionEngine"
   ]
  },
  {
   "cell_type": "code",
   "execution_count": 2,
   "metadata": {
    "scrolled": true
   },
   "outputs": [
    {
     "name": "stdout",
     "output_type": "stream",
     "text": [
      "CentaurTradingSystem iteration: 0\n",
      "attempting to activate a new tradingIntention\n",
      "   tradingIntention: QQQ created\n",
      "   trader created for QQQ\n",
      "CentaurTradingSystem iteration: 1\n",
      "attempting to activate a new tradingIntention\n",
      "   tradingIntention: SPY created\n",
      "   trader created for SPY\n",
      "CentaurTradingSystem iteration: 2\n",
      "attempting to activate a new tradingIntention\n",
      "   tradingIntention: GLD created\n",
      "CentaurTradingSystem iteration: 3\n",
      "attempting to activate a new tradingIntention\n",
      "   tradingIntention: WMT created\n",
      "CentaurTradingSystem iteration: 4\n",
      "CentaurTradingSystem iteration: 5\n",
      "CentaurTradingSystem iteration: 6\n",
      "CentaurTradingSystem iteration: 7\n",
      "CentaurTradingSystem iteration: 8\n",
      "CentaurTradingSystem iteration: 9\n",
      "CentaurTradingSystem iteration: 10\n",
      "CentaurTradingSystem iteration: 11\n",
      "CentaurTradingSystem iteration: 12\n",
      "GLD trading intention has expired\n",
      "CentaurTradingSystem iteration: 13\n",
      "attempting to activate a new tradingIntention\n",
      "   tradingIntention: GILD created\n",
      "WMT trading intention has expired\n",
      "CentaurTradingSystem iteration: 14\n",
      "attempting to activate a new tradingIntention\n",
      "   tradingIntention: NFLX created\n",
      "CentaurTradingSystem iteration: 15\n",
      "CentaurTradingSystem iteration: 16\n",
      "CentaurTradingSystem iteration: 17\n",
      "CentaurTradingSystem iteration: 18\n",
      "CentaurTradingSystem iteration: 19\n",
      "CentaurTradingSystem iteration: 20\n",
      "QQQ trader expired\n",
      "CentaurTradingSystem iteration: 21\n",
      "SPY trader expired\n",
      "CentaurTradingSystem iteration: 22\n",
      "CentaurTradingSystem iteration: 23\n",
      "GILD trading intention has expired\n",
      "CentaurTradingSystem iteration: 24\n",
      "attempting to activate a new tradingIntention\n",
      "   tradingIntention: MSFT created\n",
      "   trader created for MSFT\n",
      "NFLX trading intention has expired\n",
      "CentaurTradingSystem iteration: 25\n",
      "attempting to activate a new tradingIntention\n",
      "   tradingIntention: IBM created\n",
      "   trader created for IBM\n",
      "CentaurTradingSystem iteration: 26\n",
      "attempting to activate a new tradingIntention\n",
      "   tradingIntention: CSCO created\n",
      "CentaurTradingSystem iteration: 27\n",
      "my apologies but I'm out of new trading ideas...\n",
      "CentaurTradingSystem iteration: 28\n",
      "my apologies but I'm out of new trading ideas...\n",
      "CentaurTradingSystem iteration: 29\n",
      "my apologies but I'm out of new trading ideas...\n",
      "CentaurTradingSystem iteration: 30\n",
      "my apologies but I'm out of new trading ideas...\n",
      "CentaurTradingSystem iteration: 31\n",
      "my apologies but I'm out of new trading ideas...\n",
      "CentaurTradingSystem iteration: 32\n",
      "my apologies but I'm out of new trading ideas...\n",
      "CentaurTradingSystem iteration: 33\n",
      "my apologies but I'm out of new trading ideas...\n",
      "CentaurTradingSystem iteration: 34\n",
      "my apologies but I'm out of new trading ideas...\n",
      "CentaurTradingSystem iteration: 35\n",
      "my apologies but I'm out of new trading ideas...\n",
      "CentaurTradingSystem iteration: 36\n",
      "my apologies but I'm out of new trading ideas...\n",
      "CSCO trading intention has expired\n",
      "CentaurTradingSystem iteration: 37\n",
      "my apologies but I'm out of new trading ideas...\n",
      "CentaurTradingSystem iteration: 38\n",
      "my apologies but I'm out of new trading ideas...\n",
      "CentaurTradingSystem iteration: 39\n",
      "my apologies but I'm out of new trading ideas...\n",
      "CentaurTradingSystem iteration: 40\n",
      "my apologies but I'm out of new trading ideas...\n",
      "CentaurTradingSystem iteration: 41\n",
      "my apologies but I'm out of new trading ideas...\n",
      "CentaurTradingSystem iteration: 42\n",
      "my apologies but I'm out of new trading ideas...\n",
      "CentaurTradingSystem iteration: 43\n",
      "my apologies but I'm out of new trading ideas...\n",
      "CentaurTradingSystem iteration: 44\n",
      "my apologies but I'm out of new trading ideas...\n",
      "MSFT trader expired\n",
      "CentaurTradingSystem iteration: 45\n",
      "my apologies but I'm out of new trading ideas...\n",
      "IBM trader expired\n",
      "CentaurTradingSystem iteration: 46\n",
      "my apologies but I'm out of new trading ideas...\n",
      "CentaurTradingSystem iteration: 47\n",
      "my apologies but I'm out of new trading ideas...\n",
      "CentaurTradingSystem iteration: 48\n",
      "my apologies but I'm out of new trading ideas...\n",
      "CentaurTradingSystem iteration: 49\n",
      "my apologies but I'm out of new trading ideas...\n",
      "CentaurTradingSystem iteration: 50\n",
      "my apologies but I'm out of new trading ideas...\n",
      "CentaurTradingSystem iteration: 51\n",
      "my apologies but I'm out of new trading ideas...\n",
      "CentaurTradingSystem iteration: 52\n",
      "my apologies but I'm out of new trading ideas...\n",
      "CentaurTradingSystem iteration: 53\n",
      "my apologies but I'm out of new trading ideas...\n",
      "CentaurTradingSystem iteration: 54\n",
      "my apologies but I'm out of new trading ideas...\n",
      "CentaurTradingSystem iteration: 55\n",
      "my apologies but I'm out of new trading ideas...\n",
      "CentaurTradingSystem iteration: 56\n",
      "my apologies but I'm out of new trading ideas...\n",
      "CentaurTradingSystem iteration: 57\n",
      "my apologies but I'm out of new trading ideas...\n",
      "CentaurTradingSystem iteration: 58\n",
      "my apologies but I'm out of new trading ideas...\n",
      "CentaurTradingSystem iteration: 59\n",
      "my apologies but I'm out of new trading ideas...\n",
      "CentaurTradingSystem iteration: 60\n"
     ]
    }
   ],
   "source": [
    "initialGuidance = TradingGuidance()\n",
    "intentionEngine = IntentionEngine(initialGuidance)\n",
    "cts = CentaurTradingSystem(intentionEngine)\n",
    "time.sleep(30)\n",
    "cts.shutdownClean()"
   ]
  },
  {
   "cell_type": "code",
   "execution_count": null,
   "metadata": {},
   "outputs": [],
   "source": [
    "# implement oscillator strategy\n",
    "# resistance, support, upward/downward trend"
   ]
  },
  {
   "cell_type": "code",
   "execution_count": null,
   "metadata": {},
   "outputs": [],
   "source": [
    "# trader needs to create a buy/sell trade pair"
   ]
  },
  {
   "cell_type": "code",
   "execution_count": null,
   "metadata": {},
   "outputs": [],
   "source": [
    "# trader needs to create a sell/buy pair"
   ]
  }
 ],
 "metadata": {
  "kernelspec": {
   "display_name": "Python 3",
   "language": "python",
   "name": "python3"
  },
  "language_info": {
   "codemirror_mode": {
    "name": "ipython",
    "version": 3
   },
   "file_extension": ".py",
   "mimetype": "text/x-python",
   "name": "python",
   "nbconvert_exporter": "python",
   "pygments_lexer": "ipython3",
   "version": "3.7.4"
  }
 },
 "nbformat": 4,
 "nbformat_minor": 4
}
