{
 "cells": [
  {
   "cell_type": "code",
   "execution_count": null,
   "metadata": {},
   "outputs": [],
   "source": [
    "#%matplotlib notebook\n",
    "import matplotlib.pyplot as plt\n",
    "import time\n",
    "import re\n",
    "import matrixprofile as mp\n",
    "from redistimeseries.client import Client"
   ]
  },
  {
   "cell_type": "code",
   "execution_count": null,
   "metadata": {},
   "outputs": [],
   "source": [
    "redis_host = \"localhost\"\n",
    "redis_port = 6380\n",
    "rts = Client(host=redis_host, port=redis_port)"
   ]
  },
  {
   "cell_type": "code",
   "execution_count": null,
   "metadata": {},
   "outputs": [],
   "source": [
    "from_time=0\n",
    "to_time=-1\n",
    "aggregation_type=\"last\"\n",
    "bucket_size_msec=60000\n",
    "filters=[\"SYMSET=ACTIVE\"]\n",
    "print(\"Querying data...\")\n",
    "start=time.time()\n",
    "bulk_data=rts.mrange(from_time=from_time,to_time=to_time,aggregation_type=aggregation_type,bucket_size_msec=bucket_size_msec,filters=filters)\n",
    "print(\"Querying completed:\",int(time.time()-start),\"sec.\")\n",
    "print(\"Splitting data into price and volume...\")\n"
   ]
  },
  {
   "cell_type": "code",
   "execution_count": null,
   "metadata": {},
   "outputs": [],
   "source": [
    "def ProcessPriceTS(d):\n",
    "    key=str(list(d.keys())[0])\n",
    "    if not re.match('.*price.*', key):\n",
    "        return\n",
    "    rest=list(d.get(key))[1]\n",
    "    ts,data = map(list,zip(*rest)) # timestamps and data\n",
    "    def drawMP(windowSize):\n",
    "        profile=mp.compute(data,windows=windowSize)\n",
    "        x=mp.discover.regimes(profile, num_regimes=20)\n",
    "        regimes = x['regimes']\n",
    "        plt.figure()\n",
    "        plt.plot(data)\n",
    "        plt.title(\"{}\\nwindow size: {},{}\".format(key,windowSize,regimes))\n",
    "        for regime in regimes:\n",
    "            if regime > 0:\n",
    "                plt.axvline(x=regime)\n",
    "        regimes\n",
    "        plt.show()\n",
    "    for w in range(4,40,1):\n",
    "        drawMP(w)\n",
    "\n",
    "max = 76\n",
    "cur = 1\n",
    "for d in bulk_data:\n",
    "    if cur > max:\n",
    "        break\n",
    "    ProcessPriceTS(d)\n",
    "    cur = cur + 1"
   ]
  },
  {
   "cell_type": "code",
   "execution_count": null,
   "metadata": {},
   "outputs": [],
   "source": [
    "cur"
   ]
  },
  {
   "cell_type": "code",
   "execution_count": null,
   "metadata": {},
   "outputs": [],
   "source": []
  }
 ],
 "metadata": {
  "kernelspec": {
   "display_name": "Python 3",
   "language": "python",
   "name": "python3"
  },
  "language_info": {
   "codemirror_mode": {
    "name": "ipython",
    "version": 3
   },
   "file_extension": ".py",
   "mimetype": "text/x-python",
   "name": "python",
   "nbconvert_exporter": "python",
   "pygments_lexer": "ipython3",
   "version": "3.6.9"
  }
 },
 "nbformat": 4,
 "nbformat_minor": 2
}
